{
 "cells": [
  {
   "cell_type": "code",
   "execution_count": 2,
   "id": "32a9ba0e-8c11-440c-9e43-9b28dfe037f9",
   "metadata": {},
   "outputs": [
    {
     "name": "stdout",
     "output_type": "stream",
     "text": [
      "Collecting xmltodict\n",
      "  Using cached xmltodict-0.13.0-py2.py3-none-any.whl (10.0 kB)\n",
      "Installing collected packages: xmltodict\n",
      "Successfully installed xmltodict-0.13.0\n"
     ]
    }
   ],
   "source": [
    "#https://www.ncbi.nlm.nih.gov/research/bionlp/RESTful/pmcoa.cgi\n",
    "#cite: Comeau DC, Wei CH, Islamaj Doğan R, and Lu Z. PMC text mining subset in BioC: about 3 million full text articles and growing, Bioinformatics, btz070, 2019.\n",
    "import requests  #to query the API \n",
    "import re  #regular expressions\n",
    "import pandas as pd   # for dataframes\n",
    "import json\n",
    "\n",
    "import xml.etree.ElementTree as ET\n",
    "import urllib.request\n",
    "\n",
    "import sklearn\n",
    "from sklearn.feature_extraction.text import CountVectorizer\n",
    "\n",
    "!pip install xmltodict\n",
    "import xmltodict\n"
   ]
  },
  {
   "cell_type": "code",
   "execution_count": 3,
   "id": "a05a1c99-085c-494a-8dc2-70c61b60fa50",
   "metadata": {},
   "outputs": [
    {
     "name": "stdout",
     "output_type": "stream",
     "text": [
      "http://eutils.ncbi.nlm.nih.gov/entrez//eutils/esearch.fcgi/?db=pubmed&term=transgender&retmode=json&retmax=200\n"
     ]
    }
   ],
   "source": [
    "\n",
    "search_url = f'http://eutils.ncbi.nlm.nih.gov/entrez//eutils/esearch.fcgi/' + \\\n",
    "              f'?db=pubmed' + \\\n",
    "              f'&term=transgender' + \\\n",
    "              f'&retmode=json' + \\\n",
    "              f'&retmax=200'\n",
    "\n",
    "link_list = urllib.request.urlopen(search_url).read().decode('utf-8')\n",
    "print(search_url)"
   ]
  },
  {
   "cell_type": "code",
   "execution_count": 5,
   "id": "acf6706b-cf31-4ee7-89a6-8ab88cbef720",
   "metadata": {},
   "outputs": [],
   "source": [
    "result = json.loads(link_list)\n",
    "#print(result)"
   ]
  },
  {
   "cell_type": "code",
   "execution_count": 6,
   "id": "4b60a7ad-75c3-4b5b-9dc7-52c4ce60e883",
   "metadata": {},
   "outputs": [
    {
     "name": "stdout",
     "output_type": "stream",
     "text": [
      "38324820,38324372,38324364,38320410,38320110,38319916,38319897,38319650,38319392,38319312,38318604,38317398,38317289,38317285,38316157,38316142,38315177,38315125,38314192,38313363,38312459,38312458,38312457,38312455,38312454,38312453,38312452,38312451,38312450,38312449,38312448,38312447,38311890,38311658,38311224,38310748,38310507,38310504,38309101,38308819,38308107,38308106,38307677,38307505,38306500,38305812,38304528,38304021,38303623,38302717,38302408,38302406,38301263,38301144,38301143,38301142,38300585,38300501,38299337,38298201,38297406,38297151,38294712,38294149,38293963,38292918,38292830,38291714,38291609,38291501,38289863,38289601,38289246,38287341,38287088,38286696,38286695,38286163,38285991,38285526,38284875,38284562,38284159,38283761,38282426,38281895,38280155,38277762,38277213,38276513,38275010,38273773,38273406,38272844,38272585,38271939,38271434,38271084,38270486,38269305,38268953,38267806,38267126,38266174,38265927,38265858,38265768,38265699,38263130,38263051,38262089,38261633,38261599,38261588,38261572,38261571,38261546,38260925,38259557,38258548,38256399,38256381,38255753,38255021,38254161,38252637,38252098,38251401,38251182,38250121,38249936,38249107,38245684,38245115,38242354,38241743,38239562,38238978,38238673,38236938,38236638,38236247,38235809,38234300,38232978,38232175,38229964,38229477,38229114,38228983,38228573,38228567,38228566,38228565,38228564,38228343,38228340,38227997,38227911,38227540,38227489,38226754,38224575,38223213,38222327,38219762,38219741,38219049,38218684,38218369,38216784,38216350,38216232,38215433,38214789,38214615,38214608,38213669,38213531,38213289,38206975,38206680,38206224,38205990,38204952,38199931,38199639,38198631,38198319,38198055,38197305,38197295,29261888,38190769,38190484,38190308,38190296,38190173,38186370,38186086\n"
     ]
    }
   ],
   "source": [
    "id_list = ','.join(result['esearchresult']['idlist'])\n",
    "\n",
    "print(id_list)"
   ]
  },
  {
   "cell_type": "code",
   "execution_count": 12,
   "id": "43c8672c-67a8-4bb3-93b7-68bcf9760114",
   "metadata": {},
   "outputs": [],
   "source": [
    "abstract_url = f'http://eutils.ncbi.nlm.nih.gov/entrez//eutils/efetch.fcgi?db=pubmed&id={id_list}'\n",
    "#abstract_ = urllib.request.urlopen(abstract_url).read().decode('utf-8')\n",
    "\n",
    "r2 = requests.get(abstract_url)\n",
    "#print(r2.content)\n",
    "#print(type(r2.content))\n",
    "\n",
    "dict_data = xmltodict.parse(r2.content)\n",
    "#print(dict_data)\n",
    "\n",
    "\n",
    "\n",
    "#abstracts = open(\"50_Abstracts.txt\", \"w\")\n",
    "#abstracts.write(abstract_)\n",
    "#abstracts.close()"
   ]
  },
  {
   "cell_type": "code",
   "execution_count": 13,
   "id": "14d6b836-8cad-4782-821e-ee502180be97",
   "metadata": {},
   "outputs": [
    {
     "name": "stdout",
     "output_type": "stream",
     "text": [
      "[]\n"
     ]
    }
   ],
   "source": [
    "abstracts = []\n",
    "print(abstracts)"
   ]
  },
  {
   "cell_type": "code",
   "execution_count": 15,
   "id": "b027d45c-2ae0-4e71-bdd5-32e07e1bba4a",
   "metadata": {},
   "outputs": [],
   "source": [
    "for item in dict_data['PubmedArticleSet']['PubmedArticle']:\n",
    "    try:\n",
    "        if type(item['MedlineCitation']['Article'].get('Abstract').get('AbstractText')) is dict:\n",
    "            a = item['MedlineCitation']['Article'].get('Abstract').get('AbstractText').get('#text')\n",
    "        elif type(item['MedlineCitation']['Article'].get('Abstract').get('AbstractText')) is list:\n",
    "            a =item['MedlineCitation']['Article'].get('Abstract').get('AbstractText')[0].get('#text')\n",
    "        elif type(item['MedlineCitation']['Article'].get('Abstract').get('AbstractText')) == None:\n",
    "            a = \"None\"\n",
    "        elif type(item['MedlineCitation']['Article'].get('Abstract')) == None:\n",
    "            a = \"None\"\n",
    "        else:\n",
    "            a = item['MedlineCitation']['Article'].get('Abstract').get('AbstractText')\n",
    "    except:\n",
    "        pass\n",
    "    abstracts.append(a)\n",
    "    #print(MLC.keys())\n",
    "    #for i in MLC:\n",
    "    #print(item.get('PubmedData').keys())\n",
    "    #print(item)\n",
    "    \n",
    "    #x = thisdict.get(\"model\")\n",
    "#print(abstracts)"
   ]
  },
  {
   "cell_type": "code",
   "execution_count": 16,
   "id": "221372fd-dbe3-4a75-aa41-495f070a3d34",
   "metadata": {},
   "outputs": [
    {
     "data": {
      "text/html": [
       "<div>\n",
       "<style scoped>\n",
       "    .dataframe tbody tr th:only-of-type {\n",
       "        vertical-align: middle;\n",
       "    }\n",
       "\n",
       "    .dataframe tbody tr th {\n",
       "        vertical-align: top;\n",
       "    }\n",
       "\n",
       "    .dataframe thead th {\n",
       "        text-align: right;\n",
       "    }\n",
       "</style>\n",
       "<table border=\"1\" class=\"dataframe\">\n",
       "  <thead>\n",
       "    <tr style=\"text-align: right;\">\n",
       "      <th></th>\n",
       "      <th>0</th>\n",
       "    </tr>\n",
       "  </thead>\n",
       "  <tbody>\n",
       "    <tr>\n",
       "      <th>0</th>\n",
       "      <td>This study analyzed the construction process o...</td>\n",
       "    </tr>\n",
       "    <tr>\n",
       "      <th>1</th>\n",
       "      <td>This study analyzed the construction process o...</td>\n",
       "    </tr>\n",
       "    <tr>\n",
       "      <th>2</th>\n",
       "      <td>Acceptability and preference research play a c...</td>\n",
       "    </tr>\n",
       "    <tr>\n",
       "      <th>3</th>\n",
       "      <td>There is growing concern about psychiatric ill...</td>\n",
       "    </tr>\n",
       "    <tr>\n",
       "      <th>4</th>\n",
       "      <td>It is well established that provider lack of k...</td>\n",
       "    </tr>\n",
       "    <tr>\n",
       "      <th>...</th>\n",
       "      <td>...</td>\n",
       "    </tr>\n",
       "    <tr>\n",
       "      <th>194</th>\n",
       "      <td>The visibility of lesbian, gay, bisexual, tran...</td>\n",
       "    </tr>\n",
       "    <tr>\n",
       "      <th>195</th>\n",
       "      <td>The visibility of lesbian, gay, bisexual, tran...</td>\n",
       "    </tr>\n",
       "    <tr>\n",
       "      <th>196</th>\n",
       "      <td>Firearm violence is increasingly recognized as...</td>\n",
       "    </tr>\n",
       "    <tr>\n",
       "      <th>197</th>\n",
       "      <td>This study aimed to assess the knowledge and a...</td>\n",
       "    </tr>\n",
       "    <tr>\n",
       "      <th>198</th>\n",
       "      <td>To explore the feasibility of development and ...</td>\n",
       "    </tr>\n",
       "  </tbody>\n",
       "</table>\n",
       "<p>199 rows × 1 columns</p>\n",
       "</div>"
      ],
      "text/plain": [
       "                                                     0\n",
       "0    This study analyzed the construction process o...\n",
       "1    This study analyzed the construction process o...\n",
       "2    Acceptability and preference research play a c...\n",
       "3    There is growing concern about psychiatric ill...\n",
       "4    It is well established that provider lack of k...\n",
       "..                                                 ...\n",
       "194  The visibility of lesbian, gay, bisexual, tran...\n",
       "195  The visibility of lesbian, gay, bisexual, tran...\n",
       "196  Firearm violence is increasingly recognized as...\n",
       "197  This study aimed to assess the knowledge and a...\n",
       "198  To explore the feasibility of development and ...\n",
       "\n",
       "[199 rows x 1 columns]"
      ]
     },
     "execution_count": 16,
     "metadata": {},
     "output_type": "execute_result"
    }
   ],
   "source": [
    "abstract_df = pd.DataFrame(abstracts)\n",
    "abstract_df"
   ]
  },
  {
   "cell_type": "code",
   "execution_count": 205,
   "id": "6d0f0277-db60-42f7-b42b-ff1bca1689de",
   "metadata": {},
   "outputs": [],
   "source": [
    "abstract_df.to_csv('AbstractDF.csv')"
   ]
  }
 ],
 "metadata": {
  "kernelspec": {
   "display_name": "Python 3 (ipykernel)",
   "language": "python",
   "name": "python3"
  },
  "language_info": {
   "codemirror_mode": {
    "name": "ipython",
    "version": 3
   },
   "file_extension": ".py",
   "mimetype": "text/x-python",
   "name": "python",
   "nbconvert_exporter": "python",
   "pygments_lexer": "ipython3",
   "version": "3.10.8"
  }
 },
 "nbformat": 4,
 "nbformat_minor": 5
}
