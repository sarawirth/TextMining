{
 "cells": [
  {
   "cell_type": "code",
   "execution_count": 5,
   "id": "99b69a38-074a-465b-ae0d-bad3664fa008",
   "metadata": {},
   "outputs": [],
   "source": [
    "#newsapi.ai key: d9052625-a43b-4f63-b861-c1c8abe115bc\n",
    "#newsAPI key: c3645cc0bc8044bb97ddf2951e63c9fd\n",
    "#!pip install requests_html"
   ]
  },
  {
   "cell_type": "markdown",
   "id": "ef91a08a-8842-4808-8397-9220e63540e6",
   "metadata": {},
   "source": [
    "NewsAPI HTTP Status Codes\n",
    "200\tSuccess. Everything worked as expected.\n",
    "204\tInformation not available. Request succeeded, but the requested information is not available.\n",
    "400\tBad request. The request was unacceptable, most likely due to invalid or missing parameter.\n",
    "401\tUser's limit reached. The user reached the limit of the tokens in his account. The requests are rejected.\n",
    "403\tForbidden. The user's IP or account is disabled, or if all the tokens have been used. Check the error message for more details.\n",
    "500\tInternal error. Internal error occured while processing the request.\n",
    "503\tService unavailable. The service is currently not available."
   ]
  },
  {
   "cell_type": "code",
   "execution_count": 1,
   "id": "65e444d0-2301-4de6-8902-a7a5a6ad4e20",
   "metadata": {},
   "outputs": [],
   "source": [
    "import requests  #to query the API \n",
    "import re  #regular expressions\n",
    "import pandas as pd   # for dataframes\n",
    "import json\n",
    "\n",
    "import sklearn\n",
    "from sklearn.feature_extraction.text import CountVectorizer  \n",
    " \n",
    "#for text vectorization\n",
    "#print(sklearn.__version__)\n",
    "\n",
    "#from requests_html import HTMLSession\n",
    "#from requests_html import AsyncHTMLSession"
   ]
  },
  {
   "cell_type": "code",
   "execution_count": 2,
   "id": "5a23fba4-94fe-4e38-94d1-242e3a788910",
   "metadata": {},
   "outputs": [
    {
     "name": "stdout",
     "output_type": "stream",
     "text": [
      "https://newsapi.org/v2/everything?q=(transgender+OR+trans+OR+binary)AND(youth+OR+minor+OR+minors+OR+children+OR+child)&apiKey=c3645cc0bc8044bb97ddf2951e63c9fd\n"
     ]
    }
   ],
   "source": [
    "\n",
    "url = ('https://newsapi.org/v2/everything?'\n",
    "        'q=(transgender+OR+trans+OR+binary)AND(youth+OR+minor+OR+minors+OR+children+OR+child)&'\n",
    "       #'from=2021-02-06&' \n",
    "       #'to=2020-03-07&'\n",
    "       #'pageSize=100&'\n",
    "       #'language=en&'\n",
    "       'apiKey=c3645cc0bc8044bb97ddf2951e63c9fd'\n",
    ")\n",
    "print(url)"
   ]
  },
  {
   "cell_type": "code",
   "execution_count": 3,
   "id": "e39fedaa-e3db-4ce8-a469-fdcbf5e74e96",
   "metadata": {},
   "outputs": [
    {
     "name": "stdout",
     "output_type": "stream",
     "text": [
      "<Response [200]>\n"
     ]
    }
   ],
   "source": [
    "r = requests.get(url)\n",
    "print(r)"
   ]
  },
  {
   "cell_type": "code",
   "execution_count": 5,
   "id": "0c6950f5-fd8d-44be-82fc-36ca50b576a7",
   "metadata": {},
   "outputs": [],
   "source": [
    "jsontxt = r.json()\n",
    "\n",
    "#print(jsontxt, \"\\n\")"
   ]
  },
  {
   "cell_type": "code",
   "execution_count": 14,
   "id": "2b0f2315-7afb-4d7a-8a79-228f75f97503",
   "metadata": {},
   "outputs": [],
   "source": [
    "## Create a new csv file to save the headlines\n",
    "filename='NewsAPI_jsontxt.csv'"
   ]
  },
  {
   "cell_type": "code",
   "execution_count": 8,
   "id": "ed1b066d-f1a7-4cb3-9bd8-443cdc2da1d2",
   "metadata": {},
   "outputs": [],
   "source": [
    "MyFILE=open(filename,\"w\")\n",
    "### Place the column names in - write to the first row\n",
    "WriteThis=\"Author,Title,Headline\\n\"\n",
    "MyFILE.write(WriteThis)\n",
    "MyFILE.close()"
   ]
  },
  {
   "cell_type": "code",
   "execution_count": 9,
   "id": "9ce9946f-e794-4104-9dea-28f2447eb2ae",
   "metadata": {},
   "outputs": [],
   "source": [
    "#erases file content if you need to overwrite during troubleshooting\n",
    "#MyFILE=open(filename,\"r+\")\n",
    "#MyFILE.truncate(0)"
   ]
  },
  {
   "cell_type": "code",
   "execution_count": 10,
   "id": "b318d33a-7531-4180-b124-0899ca885404",
   "metadata": {},
   "outputs": [],
   "source": [
    "## Open the file for append\n",
    "MyFILE=open(filename, \"a\")\n",
    "for items in jsontxt['articles']:\n",
    "    #print(items) #prints each article as a dictionary\n",
    "    #print(items['content'], \"\\n\\n\\n\")\n",
    "    #source=items[\"source\"][\"id\"]\n",
    "    #print(source, \"\\n\")\n",
    "    \n",
    "    author=items[\"author\"]\n",
    "    if author == None:\n",
    "        author = \"None\"\n",
    "    author=re.sub(r'[,.;@#?!&$\\-\\']+', ' ', author, flags=re.IGNORECASE)\n",
    "    author=re.sub(' +', ' ', author, flags=re.IGNORECASE)\n",
    "    author=re.sub(r'\\\"', ' ', author, flags=re.IGNORECASE)\n",
    "    \n",
    "    # and replace it with a single space\n",
    "    ## NOTE: Using the \"^\" on the inside of the [] means\n",
    "    ## we want to look for any chars NOT a-z or A-Z and replace\n",
    "    ## them with blank. This removes chars that should not be there.\n",
    "    author=re.sub(r'[^a-zA-Z]', \" \", author, flags=re.VERBOSE)\n",
    "    author=author.replace(',', '')\n",
    "    author=' '.join(author.split())\n",
    "    author=re.sub(\"\\n|\\r\", \"\", author)\n",
    "\n",
    "    \n",
    "    Title=items[\"title\"]\n",
    "    Title=re.sub(r'[,.;@#?!&$\\-\\']+', ' ', Title, flags=re.IGNORECASE)\n",
    "    Title=re.sub(' +', ' ', Title, flags=re.IGNORECASE)\n",
    "    Title=re.sub(r'\\\"', ' ', Title, flags=re.IGNORECASE)\n",
    "    \n",
    "    # and replace it with a single space\n",
    "    ## NOTE: Using the \"^\" on the inside of the [] means\n",
    "    ## we want to look for any chars NOT a-z or A-Z and replace\n",
    "    ## them with blank. This removes chars that should not be there.\n",
    "    Title=re.sub(r'[^a-zA-Z]', \" \", Title, flags=re.VERBOSE)\n",
    "    Title=Title.replace(',', '')\n",
    "    Title=' '.join(Title.split())\n",
    "    Title=re.sub(\"\\n|\\r\", \"\", Title)\n",
    "    #print(Title, '\\n')\n",
    "    \n",
    "    #url = items['url']\n",
    "    #print(url)\n",
    "\n",
    "    Headline=items[\"description\"]\n",
    "    if Headline == \"[Removed]\":\n",
    "        Headline = \"None\"\n",
    "    Headline=re.sub(r'[,.;@#?!&$\\-\\']+', ' ', Headline, flags=re.IGNORECASE)\n",
    "    Headline=re.sub(' +', ' ', Headline, flags=re.IGNORECASE)\n",
    "    Headline=re.sub(r'\\\"', ' ', Headline, flags=re.IGNORECASE)\n",
    "    Headline=re.sub(r'[^a-zA-Z]', \" \", Headline, flags=re.VERBOSE)\n",
    "    ## Be sure there are no commas in the headlines or it will\n",
    "    ## write poorly to a csv file....\n",
    "    Headline=Headline.replace(',', '')\n",
    "    Headline=' '.join(Headline.split())\n",
    "    Headline=re.sub(\"\\n|\\r\", \"\", Headline)\n",
    "    \n",
    "    ### AS AN OPTION - remove words of a given length............\n",
    "    #Headline = ' '.join([wd for wd in Headline.split() if len(wd)>3])\n",
    "\n",
    "    #print(\"Author: \", Author, \"\\n\")\n",
    "    #print(\"Title: \", Title, \"\\n\")\n",
    "    #print(\"Headline News Item: \", Headline, \"\\n\\n\")\n",
    "    \n",
    "    WriteThis=str(author)+\",\"+str(Title) + \",\" + str(Headline) + \"\\n\"\n",
    "    \n",
    "    MyFILE.write(WriteThis)\n",
    "    \n",
    "## CLOSE THE FILE\n",
    "MyFILE.close()"
   ]
  },
  {
   "cell_type": "code",
   "execution_count": 23,
   "id": "d046a5f6-7501-4df3-8f78-425934019661",
   "metadata": {},
   "outputs": [],
   "source": [
    "## Read to DF\n",
    "newsAPI_df=pd.read_csv(filename, on_bad_lines = 'warn')\n",
    "#print(newsAPI_df.head())\n",
    "# iterating the columns \n",
    "#for col in newsAPI_df.columns: \n",
    "#    print(col) \n",
    "    \n",
    "#df = pd.DataFrame(newsAPI_df)\n",
    "#df\n",
    "newsAPI_df['Label'] = \"TransYouth\""
   ]
  },
  {
   "cell_type": "code",
   "execution_count": 24,
   "id": "18e89d7d-b878-4d10-8f29-f9d686abe161",
   "metadata": {},
   "outputs": [
    {
     "data": {
      "text/html": [
       "<div>\n",
       "<style scoped>\n",
       "    .dataframe tbody tr th:only-of-type {\n",
       "        vertical-align: middle;\n",
       "    }\n",
       "\n",
       "    .dataframe tbody tr th {\n",
       "        vertical-align: top;\n",
       "    }\n",
       "\n",
       "    .dataframe thead th {\n",
       "        text-align: right;\n",
       "    }\n",
       "</style>\n",
       "<table border=\"1\" class=\"dataframe\">\n",
       "  <thead>\n",
       "    <tr style=\"text-align: right;\">\n",
       "      <th></th>\n",
       "      <th>Author</th>\n",
       "      <th>Title</th>\n",
       "      <th>Headline</th>\n",
       "      <th>Label</th>\n",
       "    </tr>\n",
       "  </thead>\n",
       "  <tbody>\n",
       "    <tr>\n",
       "      <th>0</th>\n",
       "      <td>Kiara Alfonseca Lilia Geho</td>\n",
       "      <td>Ohio House votes to override governor s veto o...</td>\n",
       "      <td>The Ohio House has voted to override Gov Mike ...</td>\n",
       "      <td>TransYouth</td>\n",
       "    </tr>\n",
       "    <tr>\n",
       "      <th>1</th>\n",
       "      <td>Kiara Alfonseca Lilia Geho</td>\n",
       "      <td>Ohio Senate overrides governor veto of trans c...</td>\n",
       "      <td>The Ohio Senate voted to override Gov Mike DeW...</td>\n",
       "      <td>TransYouth</td>\n",
       "    </tr>\n",
       "    <tr>\n",
       "      <th>2</th>\n",
       "      <td>By ANDREW DeMILLO and HANNAH SCHOENBAUM AP</td>\n",
       "      <td>Efforts to Restrict Transgender Health Care En...</td>\n",
       "      <td>Republican led state legislatures are consider...</td>\n",
       "      <td>TransYouth</td>\n",
       "    </tr>\n",
       "    <tr>\n",
       "      <th>3</th>\n",
       "      <td>AMY BETH HANSON AP</td>\n",
       "      <td>Utah Joins Other States in Regulating Bathroom...</td>\n",
       "      <td>Utah became the latest state to regulate bathr...</td>\n",
       "      <td>TransYouth</td>\n",
       "    </tr>\n",
       "    <tr>\n",
       "      <th>4</th>\n",
       "      <td>Nilay Patel</td>\n",
       "      <td>Why Sen Brian Schatz thinks child safety bills...</td>\n",
       "      <td>The Democratic senator from Hawaii explains wh...</td>\n",
       "      <td>TransYouth</td>\n",
       "    </tr>\n",
       "  </tbody>\n",
       "</table>\n",
       "</div>"
      ],
      "text/plain": [
       "                                       Author  \\\n",
       "0                  Kiara Alfonseca Lilia Geho   \n",
       "1                  Kiara Alfonseca Lilia Geho   \n",
       "2  By ANDREW DeMILLO and HANNAH SCHOENBAUM AP   \n",
       "3                          AMY BETH HANSON AP   \n",
       "4                                 Nilay Patel   \n",
       "\n",
       "                                               Title  \\\n",
       "0  Ohio House votes to override governor s veto o...   \n",
       "1  Ohio Senate overrides governor veto of trans c...   \n",
       "2  Efforts to Restrict Transgender Health Care En...   \n",
       "3  Utah Joins Other States in Regulating Bathroom...   \n",
       "4  Why Sen Brian Schatz thinks child safety bills...   \n",
       "\n",
       "                                            Headline       Label  \n",
       "0  The Ohio House has voted to override Gov Mike ...  TransYouth  \n",
       "1  The Ohio Senate voted to override Gov Mike DeW...  TransYouth  \n",
       "2  Republican led state legislatures are consider...  TransYouth  \n",
       "3  Utah became the latest state to regulate bathr...  TransYouth  \n",
       "4  The Democratic senator from Hawaii explains wh...  TransYouth  "
      ]
     },
     "execution_count": 24,
     "metadata": {},
     "output_type": "execute_result"
    }
   ],
   "source": [
    "newsAPI_df.head()"
   ]
  },
  {
   "cell_type": "code",
   "execution_count": 16,
   "id": "716541d5-7284-48b8-bf77-ac0b60e650fa",
   "metadata": {},
   "outputs": [
    {
     "name": "stdout",
     "output_type": "stream",
     "text": [
      "100\n",
      "93\n"
     ]
    }
   ],
   "source": [
    "\n",
    "## REMOVE any rows with NaN in them\n",
    "print(len(newsAPI_df[\"Headline\"]))\n",
    "\n",
    "newsAPI_df.drop(newsAPI_df[newsAPI_df['Headline'] == \"None\"].index, inplace = True)\n",
    "newsAPI_df.drop(newsAPI_df[newsAPI_df['Author'] == \"None\"].index, inplace = True)\n",
    "\n",
    "print(len(newsAPI_df[\"Headline\"]))\n",
    "#print(df.loc[30,:])\n",
    "\n",
    "### Tokenize and Vectorize the Headlines\n",
    "## Create the list of headlines\n",
    "#HeadlineLIST=[]\n",
    "#for next1 in newsAPI_df[\"Headline\"]:\n",
    "#    HeadlineLIST.append(next1)\n",
    "\n",
    "#print(\"The headline list is\")\n",
    "#print(HeadlineLIST, len(HeadlineLIST))"
   ]
  },
  {
   "cell_type": "code",
   "execution_count": 14,
   "id": "2ff1db11-cbf3-4c75-a696-e3ab96820b47",
   "metadata": {},
   "outputs": [
    {
     "name": "stdout",
     "output_type": "stream",
     "text": [
      "https://newsapi.org/v2/everything?q=(LGBTQ)AND(mental)AND(health)&apiKey=c3645cc0bc8044bb97ddf2951e63c9fd\n"
     ]
    }
   ],
   "source": [
    "#Request 2: LGBTQ Mental Health\n",
    "\n",
    "url2 = ('https://newsapi.org/v2/everything?'\n",
    "        'q=(LGBTQ)AND(mental)AND(health)&'\n",
    "       #'from=2021-02-06&' \n",
    "       #'to=2020-03-07&'\n",
    "       #'pageSize=100&'\n",
    "       #'language=en&'\n",
    "       'apiKey=c3645cc0bc8044bb97ddf2951e63c9fd'\n",
    ")\n",
    "print(url2)"
   ]
  },
  {
   "cell_type": "code",
   "execution_count": 15,
   "id": "ecd6b780-957f-45c4-9e86-3a75c20ef7b2",
   "metadata": {},
   "outputs": [
    {
     "name": "stdout",
     "output_type": "stream",
     "text": [
      "<Response [200]>\n"
     ]
    }
   ],
   "source": [
    "r2 = requests.get(url2)\n",
    "print(r2)"
   ]
  },
  {
   "cell_type": "code",
   "execution_count": 16,
   "id": "eb9f0234-214c-49d8-bd7a-61b53bff9da4",
   "metadata": {},
   "outputs": [],
   "source": [
    "jsontxt2 = r2.json()\n",
    "#print(jsontxt2)"
   ]
  },
  {
   "cell_type": "code",
   "execution_count": 17,
   "id": "2d23ccab-d19a-4df3-a6df-fc1c0438e43f",
   "metadata": {},
   "outputs": [],
   "source": [
    "## Create a new csv file to save the headlines\n",
    "filename2='NewsAPI_jsontxt2.csv'"
   ]
  },
  {
   "cell_type": "code",
   "execution_count": 18,
   "id": "83e9388e-9960-42a2-993f-23ac62e92d03",
   "metadata": {},
   "outputs": [],
   "source": [
    "MyFILE=open(filename2,\"w\")\n",
    "\n",
    "WriteThis=\"Author,Title,Headline\\n\"\n",
    "MyFILE.write(WriteThis)\n",
    "MyFILE.close()\n"
   ]
  },
  {
   "cell_type": "code",
   "execution_count": 80,
   "id": "55cc8c33-f34b-4f9c-9ba8-eb226765aa1b",
   "metadata": {},
   "outputs": [
    {
     "data": {
      "text/plain": [
       "0"
      ]
     },
     "execution_count": 80,
     "metadata": {},
     "output_type": "execute_result"
    }
   ],
   "source": [
    "#If you need to empty the file for troubleshooting\n",
    "#MyFILE=open(filename2,\"r+\")\n",
    "#MyFILE.truncate(0)"
   ]
  },
  {
   "cell_type": "code",
   "execution_count": 19,
   "id": "e1c6897d-34d2-453d-a2ed-cd48bb43cc11",
   "metadata": {},
   "outputs": [],
   "source": [
    "## Open the file for append\n",
    "MyFILE=open(filename2, \"a\")\n",
    "for items in jsontxt2['articles']:\n",
    "    #print(items) #prints each article as a dictionary\n",
    "    #print(items['content'], \"\\n\\n\\n\")\n",
    "    #source=items[\"source\"][\"id\"]\n",
    "    #print(source, \"\\n\")\n",
    "    \n",
    "    author=items[\"author\"]\n",
    "    if author == None:\n",
    "        author = \"None\"\n",
    "    author=re.sub(r'[,.;@#?!&$\\-\\']+', ' ', author, flags=re.IGNORECASE)\n",
    "    author=re.sub(' +', ' ', author, flags=re.IGNORECASE)\n",
    "    author=re.sub(r'\\\"', ' ', author, flags=re.IGNORECASE)\n",
    "    \n",
    "    # and replace it with a single space\n",
    "    ## NOTE: Using the \"^\" on the inside of the [] means\n",
    "    ## we want to look for any chars NOT a-z or A-Z and replace\n",
    "    ## them with blank. This removes chars that should not be there.\n",
    "    author=re.sub(r'[^a-zA-Z]', \" \", author, flags=re.VERBOSE)\n",
    "    author=author.replace(',', '')\n",
    "    author=' '.join(author.split())\n",
    "    author=re.sub(\"\\n|\\r\", \"\", author)\n",
    "\n",
    "    \n",
    "    Title=items[\"title\"]\n",
    "    Title=re.sub(r'[,.;@#?!&$\\-\\']+', ' ', Title, flags=re.IGNORECASE)\n",
    "    Title=re.sub(' +', ' ', Title, flags=re.IGNORECASE)\n",
    "    Title=re.sub(r'\\\"', ' ', Title, flags=re.IGNORECASE)\n",
    "    \n",
    "    # and replace it with a single space\n",
    "    ## NOTE: Using the \"^\" on the inside of the [] means\n",
    "    ## we want to look for any chars NOT a-z or A-Z and replace\n",
    "    ## them with blank. This removes chars that should not be there.\n",
    "    Title=re.sub(r'[^a-zA-Z]', \" \", Title, flags=re.VERBOSE)\n",
    "    Title=Title.replace(',', '')\n",
    "    Title=' '.join(Title.split())\n",
    "    Title=re.sub(\"\\n|\\r\", \"\", Title)\n",
    "    #print(Title, '\\n')\n",
    "    \n",
    "    #url = items['url']\n",
    "    #print(url)\n",
    "\n",
    "    Headline=items[\"description\"]\n",
    "    if Headline == None:\n",
    "        Headline = \"None\"\n",
    "    Headline=re.sub(r'\\n', ' ', Headline, flags=re.IGNORECASE)\n",
    "    #print(Headline)\n",
    "    Headline=re.sub(r'[,.;@#?!&$\\-\\']+', ' ', Headline, flags=re.IGNORECASE)\n",
    "    Headline=re.sub(' +', ' ', Headline, flags=re.IGNORECASE)\n",
    "    Headline=re.sub(r'\\\"', ' ', Headline, flags=re.IGNORECASE)\n",
    "    Headline=re.sub(r'[^a-zA-Z]', \" \", Headline, flags=re.VERBOSE)\n",
    "    ## Be sure there are no commas in the headlines or it will\n",
    "    ## write poorly to a csv file....\n",
    "    Headline=Headline.replace(',', '')\n",
    "    Headline=' '.join(Headline.split())\n",
    "    Headline=re.sub(\"\\n|\\r\", \"\", Headline)\n",
    "    \n",
    "    ### AS AN OPTION - remove words of a given length............\n",
    "    #Headline = ' '.join([wd for wd in Headline.split() if len(wd)>3])\n",
    "\n",
    "    #print(\"Author: \", Author, \"\\n\")\n",
    "    #print(\"Title: \", Title, \"\\n\")\n",
    "    #print(\"Headline News Item: \", Headline, \"\\n\\n\")\n",
    "    \n",
    "    WriteThis=str(author)+\",\"+str(Title) + \",\" + str(Headline) + \"\\n\"\n",
    "    \n",
    "    MyFILE.write(WriteThis)\n",
    "    \n",
    "## CLOSE THE FILE\n",
    "MyFILE.close()"
   ]
  },
  {
   "cell_type": "code",
   "execution_count": 18,
   "id": "70c17dde-6872-41ee-a6f0-0ae50947f239",
   "metadata": {},
   "outputs": [
    {
     "name": "stdout",
     "output_type": "stream",
     "text": [
      "100\n",
      "95\n"
     ]
    }
   ],
   "source": [
    "## Read to DF\n",
    "\n",
    "## Read to DF\n",
    "newsAPI_df2=pd.read_csv(filename2, on_bad_lines = 'warn')\n",
    "\n",
    "## REMOVE any rows with NaN in them\n",
    "print(len(newsAPI_df2[\"Headline\"]))\n",
    "\n",
    "newsAPI_df2.drop(newsAPI_df2[newsAPI_df2['Headline'] == \"None\"].index, inplace = True)\n",
    "newsAPI_df2.drop(newsAPI_df2[newsAPI_df2['Author'] == \"None\"].index, inplace = True)\n",
    "\n",
    "print(len(newsAPI_df2[\"Headline\"]))\n",
    "#print(df.loc[30,:])\n",
    "\n",
    "### Tokenize and Vectorize the Headlines\n",
    "## Create the list of headlines\n",
    "#HeadlineLIST2=[]\n",
    "#for next1 in newsAPI_df2[\"Headline\"]:\n",
    "#    HeadlineLIST2.append(next1)\n",
    "\n",
    "#print(\"The headline list is\")\n",
    "#print(HeadlineLIST2, len(HeadlineLIST2))\n"
   ]
  },
  {
   "cell_type": "code",
   "execution_count": 25,
   "id": "96333ac2-7829-492a-a670-9d22107d5c49",
   "metadata": {},
   "outputs": [],
   "source": [
    "newsAPI_df2['Label'] = \"LGBTQ_MH\""
   ]
  },
  {
   "cell_type": "code",
   "execution_count": 21,
   "id": "15352250-2d2c-4b3d-9700-b3cd9f5daf52",
   "metadata": {},
   "outputs": [
    {
     "name": "stdout",
     "output_type": "stream",
     "text": [
      "https://newsapi.org/v2/everything?q=(gender)&from=2024-02-06&to=2014-01-01&apiKey=c3645cc0bc8044bb97ddf2951e63c9fd\n"
     ]
    }
   ],
   "source": [
    "#Request 3: Gender 14-24\n",
    "\n",
    "url3 = ('https://newsapi.org/v2/everything?'\n",
    "        'q=(gender)&'\n",
    "       'from=2024-02-06&' \n",
    "       'to=2014-01-01&'\n",
    "       #'pageSize=100&'\n",
    "       #'language=en&'\n",
    "       'apiKey=c3645cc0bc8044bb97ddf2951e63c9fd'\n",
    ")\n",
    "print(url3)"
   ]
  },
  {
   "cell_type": "code",
   "execution_count": 22,
   "id": "5589dd3e-41c9-4de6-a16b-db89b700003f",
   "metadata": {},
   "outputs": [
    {
     "name": "stdout",
     "output_type": "stream",
     "text": [
      "<Response [200]>\n"
     ]
    }
   ],
   "source": [
    "r3 = requests.get(url3)\n",
    "print(r3)"
   ]
  },
  {
   "cell_type": "code",
   "execution_count": 23,
   "id": "9f29a240-03eb-4284-9966-cce2c2fe891a",
   "metadata": {},
   "outputs": [],
   "source": [
    "jsontxt3 = r3.json()\n",
    "#print(jsontxt3)"
   ]
  },
  {
   "cell_type": "code",
   "execution_count": 19,
   "id": "225405f8-4959-4258-95df-9e8672e2c930",
   "metadata": {},
   "outputs": [],
   "source": [
    "filename3='NewsAPI_jsontxt3.csv'\n",
    "#If you need to empty the file for troubleshooting\n",
    "#MyFILE=open(filename3,\"r+\")\n",
    "#MyFILE.truncate(0)"
   ]
  },
  {
   "cell_type": "code",
   "execution_count": 26,
   "id": "220ad498-2b58-4f5a-a37d-762365e04815",
   "metadata": {},
   "outputs": [],
   "source": [
    "MyFILE=open(filename3,\"w\")\n",
    "\n",
    "WriteThis=\"Author,Title,Headline\\n\"\n",
    "MyFILE.write(WriteThis)\n",
    "MyFILE.close()"
   ]
  },
  {
   "cell_type": "code",
   "execution_count": 27,
   "id": "224973ab-582b-438b-b726-e1a798a3e69c",
   "metadata": {},
   "outputs": [],
   "source": [
    "## Open the file for append\n",
    "MyFILE=open(filename3, \"a\")\n",
    "for items in jsontxt3['articles']:\n",
    "    #print(items) #prints each article as a dictionary\n",
    "    #print(items['content'], \"\\n\\n\\n\")\n",
    "    #source=items[\"source\"][\"id\"]\n",
    "    #print(source, \"\\n\")\n",
    "    \n",
    "    author=items[\"author\"]\n",
    "    if author == None:\n",
    "        author = \"None\"\n",
    "    author=re.sub(r'[,.;@#?!&$\\-\\']+', ' ', author, flags=re.IGNORECASE)\n",
    "    author=re.sub(' +', ' ', author, flags=re.IGNORECASE)\n",
    "    author=re.sub(r'\\\"', ' ', author, flags=re.IGNORECASE)\n",
    "    \n",
    "    # and replace it with a single space\n",
    "    ## NOTE: Using the \"^\" on the inside of the [] means\n",
    "    ## we want to look for any chars NOT a-z or A-Z and replace\n",
    "    ## them with blank. This removes chars that should not be there.\n",
    "    author=re.sub(r'[^a-zA-Z]', \" \", author, flags=re.VERBOSE)\n",
    "    author=author.replace(',', '')\n",
    "    author=' '.join(author.split())\n",
    "    author=re.sub(\"\\n|\\r\", \"\", author)\n",
    "\n",
    "    \n",
    "    Title=items[\"title\"]\n",
    "    Title=re.sub(r'[,.;@#?!&$\\-\\']+', ' ', Title, flags=re.IGNORECASE)\n",
    "    Title=re.sub(' +', ' ', Title, flags=re.IGNORECASE)\n",
    "    Title=re.sub(r'\\\"', ' ', Title, flags=re.IGNORECASE)\n",
    "    \n",
    "    # and replace it with a single space\n",
    "    ## NOTE: Using the \"^\" on the inside of the [] means\n",
    "    ## we want to look for any chars NOT a-z or A-Z and replace\n",
    "    ## them with blank. This removes chars that should not be there.\n",
    "    Title=re.sub(r'[^a-zA-Z]', \" \", Title, flags=re.VERBOSE)\n",
    "    Title=Title.replace(',', '')\n",
    "    Title=' '.join(Title.split())\n",
    "    Title=re.sub(\"\\n|\\r\", \"\", Title)\n",
    "    #print(Title, '\\n')\n",
    "    \n",
    "    #url = items['url']\n",
    "    #print(url)\n",
    "\n",
    "    Headline=items[\"description\"]\n",
    "    if Headline == None:\n",
    "        Headline = \"None\"\n",
    "    Headline=re.sub(r'\\n', ' ', Headline, flags=re.IGNORECASE)\n",
    "    #print(Headline)\n",
    "    Headline=re.sub(r'[,.;@#?!&$\\-\\']+', ' ', Headline, flags=re.IGNORECASE)\n",
    "    Headline=re.sub(' +', ' ', Headline, flags=re.IGNORECASE)\n",
    "    Headline=re.sub(r'\\\"', ' ', Headline, flags=re.IGNORECASE)\n",
    "    Headline=re.sub(r'[^a-zA-Z]', \" \", Headline, flags=re.VERBOSE)\n",
    "    ## Be sure there are no commas in the headlines or it will\n",
    "    ## write poorly to a csv file....\n",
    "    Headline=Headline.replace(',', '')\n",
    "    Headline=' '.join(Headline.split())\n",
    "    Headline=re.sub(\"\\n|\\r\", \"\", Headline)\n",
    "    \n",
    "    ### AS AN OPTION - remove words of a given length............\n",
    "    #Headline = ' '.join([wd for wd in Headline.split() if len(wd)>3])\n",
    "\n",
    "    #print(\"Author: \", Author, \"\\n\")\n",
    "    #print(\"Title: \", Title, \"\\n\")\n",
    "    #print(\"Headline News Item: \", Headline, \"\\n\\n\")\n",
    "    \n",
    "    WriteThis=str(author)+\",\"+str(Title) + \",\" + str(Headline) + \"\\n\"\n",
    "    \n",
    "    MyFILE.write(WriteThis)\n",
    "    \n",
    "## CLOSE THE FILE\n",
    "MyFILE.close()"
   ]
  },
  {
   "cell_type": "code",
   "execution_count": 20,
   "id": "1d298806-ba03-4360-a67b-1b8363aaa2ec",
   "metadata": {},
   "outputs": [
    {
     "name": "stdout",
     "output_type": "stream",
     "text": [
      "100\n",
      "95\n"
     ]
    }
   ],
   "source": [
    "## Read to DF\n",
    "\n",
    "## Read to DF\n",
    "newsAPI_df3=pd.read_csv(filename3, on_bad_lines = 'warn')\n",
    "\n",
    "## REMOVE any rows with NaN in them\n",
    "print(len(newsAPI_df3[\"Headline\"]))\n",
    "\n",
    "newsAPI_df3.drop(newsAPI_df3[newsAPI_df3['Headline'] == \"None\"].index, inplace = True)\n",
    "newsAPI_df3.drop(newsAPI_df3[newsAPI_df3['Author'] == \"None\"].index, inplace = True)\n",
    "\n",
    "print(len(newsAPI_df3[\"Headline\"]))\n",
    "#print(df.loc[30,:])\n",
    "\n",
    "### Tokenize and Vectorize the Headlines\n",
    "## Create the list of headlines\n",
    "#HeadlineLIST2=[]\n",
    "#for next1 in newsAPI_df2[\"Headline\"]:\n",
    "#    HeadlineLIST2.append(next1)\n",
    "\n",
    "#print(\"The headline list is\")\n",
    "#print(HeadlineLIST2, len(HeadlineLIST2))\n"
   ]
  },
  {
   "cell_type": "code",
   "execution_count": 26,
   "id": "248cf67a-131c-47a3-8f7f-b8e691937498",
   "metadata": {},
   "outputs": [],
   "source": [
    "newsAPI_df3['Label'] = \"Gender_14-24\""
   ]
  },
  {
   "cell_type": "code",
   "execution_count": 8,
   "id": "2978b23d-98e9-4588-baf0-f71578219dd2",
   "metadata": {},
   "outputs": [
    {
     "name": "stdout",
     "output_type": "stream",
     "text": [
      "https://newsapi.org/v2/everything?q=(gender)AND(policy)&from=2024-02-06&to=2014-01-01&apiKey=c3645cc0bc8044bb97ddf2951e63c9fd\n"
     ]
    }
   ],
   "source": [
    "#Request 4: Gender Policy 04-14 Will have to convert csvs to dataframes before merging but only need to do two calls\n",
    "\n",
    "\n",
    "url4 = ('https://newsapi.org/v2/everything?'\n",
    "        'q=(gender)AND(policy)&'\n",
    "       'from=2024-02-06&' \n",
    "       'to=2014-01-01&'\n",
    "       #'pageSize=100&'\n",
    "       #'language=en&'\n",
    "       'apiKey=c3645cc0bc8044bb97ddf2951e63c9fd'\n",
    ")\n",
    "print(url4)"
   ]
  },
  {
   "cell_type": "code",
   "execution_count": 9,
   "id": "3f78bfac-8b73-4029-a11c-eba459f3029c",
   "metadata": {},
   "outputs": [
    {
     "name": "stdout",
     "output_type": "stream",
     "text": [
      "<Response [200]>\n"
     ]
    }
   ],
   "source": [
    "r4 = requests.get(url4)\n",
    "print(r4)"
   ]
  },
  {
   "cell_type": "code",
   "execution_count": 10,
   "id": "ce1c9a00-9626-4b35-bccf-50a6e31891d2",
   "metadata": {},
   "outputs": [],
   "source": [
    "jsontxt4 = r4.json()\n",
    "#print(jsontxt3)"
   ]
  },
  {
   "cell_type": "code",
   "execution_count": 21,
   "id": "7e6c9fb3-89ab-4f50-8ce9-9182aa5c76d4",
   "metadata": {},
   "outputs": [],
   "source": [
    "\n",
    "filename4='NewsAPI_jsontxt4.csv'\n",
    "#If you need to empty the file for troubleshooting\n",
    "#MyFILE=open(filename3,\"r+\")\n",
    "#MyFILE.truncate(0)"
   ]
  },
  {
   "cell_type": "code",
   "execution_count": 12,
   "id": "5052b406-84ad-410c-8f02-5d8bc11a68f9",
   "metadata": {},
   "outputs": [],
   "source": [
    "MyFILE=open(filename4,\"w\")\n",
    "\n",
    "WriteThis=\"Author,Title,Headline\\n\"\n",
    "MyFILE.write(WriteThis)\n",
    "MyFILE.close()"
   ]
  },
  {
   "cell_type": "code",
   "execution_count": 13,
   "id": "3afffeb1-ae33-471d-bac4-c7202e32d897",
   "metadata": {},
   "outputs": [],
   "source": [
    "## Open the file for append\n",
    "MyFILE=open(filename4, \"a\")\n",
    "for items in jsontxt4['articles']:\n",
    "    #print(items) #prints each article as a dictionary\n",
    "    #print(items['content'], \"\\n\\n\\n\")\n",
    "    #source=items[\"source\"][\"id\"]\n",
    "    #print(source, \"\\n\")\n",
    "    \n",
    "    author=items[\"author\"]\n",
    "    if author == None:\n",
    "        author = \"None\"\n",
    "    author=re.sub(r'[,.;@#?!&$\\-\\']+', ' ', author, flags=re.IGNORECASE)\n",
    "    author=re.sub(' +', ' ', author, flags=re.IGNORECASE)\n",
    "    author=re.sub(r'\\\"', ' ', author, flags=re.IGNORECASE)\n",
    "    \n",
    "    # and replace it with a single space\n",
    "    ## NOTE: Using the \"^\" on the inside of the [] means\n",
    "    ## we want to look for any chars NOT a-z or A-Z and replace\n",
    "    ## them with blank. This removes chars that should not be there.\n",
    "    author=re.sub(r'[^a-zA-Z]', \" \", author, flags=re.VERBOSE)\n",
    "    author=author.replace(',', '')\n",
    "    author=' '.join(author.split())\n",
    "    author=re.sub(\"\\n|\\r\", \"\", author)\n",
    "\n",
    "    \n",
    "    Title=items[\"title\"]\n",
    "    Title=re.sub(r'[,.;@#?!&$\\-\\']+', ' ', Title, flags=re.IGNORECASE)\n",
    "    Title=re.sub(' +', ' ', Title, flags=re.IGNORECASE)\n",
    "    Title=re.sub(r'\\\"', ' ', Title, flags=re.IGNORECASE)\n",
    "    \n",
    "    # and replace it with a single space\n",
    "    ## NOTE: Using the \"^\" on the inside of the [] means\n",
    "    ## we want to look for any chars NOT a-z or A-Z and replace\n",
    "    ## them with blank. This removes chars that should not be there.\n",
    "    Title=re.sub(r'[^a-zA-Z]', \" \", Title, flags=re.VERBOSE)\n",
    "    Title=Title.replace(',', '')\n",
    "    Title=' '.join(Title.split())\n",
    "    Title=re.sub(\"\\n|\\r\", \"\", Title)\n",
    "    #print(Title, '\\n')\n",
    "    \n",
    "    #url = items['url']\n",
    "    #print(url)\n",
    "\n",
    "    Headline=items[\"description\"]\n",
    "    if Headline == None:\n",
    "        Headline = \"None\"\n",
    "    Headline=re.sub(r'\\n', ' ', Headline, flags=re.IGNORECASE)\n",
    "    #print(Headline)\n",
    "    Headline=re.sub(r'[,.;@#?!&$\\-\\']+', ' ', Headline, flags=re.IGNORECASE)\n",
    "    Headline=re.sub(' +', ' ', Headline, flags=re.IGNORECASE)\n",
    "    Headline=re.sub(r'\\\"', ' ', Headline, flags=re.IGNORECASE)\n",
    "    Headline=re.sub(r'[^a-zA-Z]', \" \", Headline, flags=re.VERBOSE)\n",
    "    ## Be sure there are no commas in the headlines or it will\n",
    "    ## write poorly to a csv file....\n",
    "    Headline=Headline.replace(',', '')\n",
    "    Headline=' '.join(Headline.split())\n",
    "    Headline=re.sub(\"\\n|\\r\", \"\", Headline)\n",
    "    \n",
    "    ### AS AN OPTION - remove words of a given length............\n",
    "    #Headline = ' '.join([wd for wd in Headline.split() if len(wd)>3])\n",
    "\n",
    "    #print(\"Author: \", Author, \"\\n\")\n",
    "    #print(\"Title: \", Title, \"\\n\")\n",
    "    #print(\"Headline News Item: \", Headline, \"\\n\\n\")\n",
    "    \n",
    "    WriteThis=str(author)+\",\"+str(Title) + \",\" + str(Headline) + \"\\n\"\n",
    "    \n",
    "    MyFILE.write(WriteThis)\n",
    "    \n",
    "## CLOSE THE FILE\n",
    "MyFILE.close()"
   ]
  },
  {
   "cell_type": "code",
   "execution_count": 22,
   "id": "10068de1-54d4-444a-a70b-5e9c942cccf1",
   "metadata": {},
   "outputs": [
    {
     "name": "stdout",
     "output_type": "stream",
     "text": [
      "100\n",
      "93\n"
     ]
    }
   ],
   "source": [
    "## Read to DF\n",
    "\n",
    "## Read to DF\n",
    "newsAPI_df4=pd.read_csv(filename4, on_bad_lines = 'warn')\n",
    "\n",
    "## REMOVE any rows with NaN in them\n",
    "print(len(newsAPI_df4[\"Headline\"]))\n",
    "\n",
    "newsAPI_df4.drop(newsAPI_df4[newsAPI_df4['Headline'] == \"None\"].index, inplace = True)\n",
    "newsAPI_df4.drop(newsAPI_df4[newsAPI_df4['Author'] == \"None\"].index, inplace = True)\n",
    "\n",
    "print(len(newsAPI_df4[\"Headline\"]))\n",
    "#print(df.loc[30,:])\n",
    "\n",
    "### Tokenize and Vectorize the Headlines\n",
    "## Create the list of headlines\n",
    "#HeadlineLIST2=[]\n",
    "#for next1 in newsAPI_df2[\"Headline\"]:\n",
    "#    HeadlineLIST2.append(next1)\n",
    "\n",
    "#print(\"The headline list is\")\n",
    "#print(HeadlineLIST2, len(HeadlineLIST2))\n"
   ]
  },
  {
   "cell_type": "code",
   "execution_count": 27,
   "id": "db4b4b8d-b81b-4440-9213-1c6763d4b659",
   "metadata": {},
   "outputs": [],
   "source": [
    "newsAPI_df4['Label'] = \"Policy_14-24\""
   ]
  },
  {
   "cell_type": "code",
   "execution_count": 28,
   "id": "b78695bf-814a-457c-9311-b260a7af64f7",
   "metadata": {},
   "outputs": [
    {
     "data": {
      "text/html": [
       "<div>\n",
       "<style scoped>\n",
       "    .dataframe tbody tr th:only-of-type {\n",
       "        vertical-align: middle;\n",
       "    }\n",
       "\n",
       "    .dataframe tbody tr th {\n",
       "        vertical-align: top;\n",
       "    }\n",
       "\n",
       "    .dataframe thead th {\n",
       "        text-align: right;\n",
       "    }\n",
       "</style>\n",
       "<table border=\"1\" class=\"dataframe\">\n",
       "  <thead>\n",
       "    <tr style=\"text-align: right;\">\n",
       "      <th></th>\n",
       "      <th>Author</th>\n",
       "      <th>Title</th>\n",
       "      <th>Headline</th>\n",
       "      <th>Label</th>\n",
       "    </tr>\n",
       "  </thead>\n",
       "  <tbody>\n",
       "    <tr>\n",
       "      <th>0</th>\n",
       "      <td>Kiara Alfonseca Lilia Geho</td>\n",
       "      <td>Ohio House votes to override governor s veto o...</td>\n",
       "      <td>The Ohio House has voted to override Gov Mike ...</td>\n",
       "      <td>TransYouth</td>\n",
       "    </tr>\n",
       "    <tr>\n",
       "      <th>1</th>\n",
       "      <td>Kiara Alfonseca Lilia Geho</td>\n",
       "      <td>Ohio Senate overrides governor veto of trans c...</td>\n",
       "      <td>The Ohio Senate voted to override Gov Mike DeW...</td>\n",
       "      <td>TransYouth</td>\n",
       "    </tr>\n",
       "    <tr>\n",
       "      <th>2</th>\n",
       "      <td>By ANDREW DeMILLO and HANNAH SCHOENBAUM AP</td>\n",
       "      <td>Efforts to Restrict Transgender Health Care En...</td>\n",
       "      <td>Republican led state legislatures are consider...</td>\n",
       "      <td>TransYouth</td>\n",
       "    </tr>\n",
       "    <tr>\n",
       "      <th>3</th>\n",
       "      <td>AMY BETH HANSON AP</td>\n",
       "      <td>Utah Joins Other States in Regulating Bathroom...</td>\n",
       "      <td>Utah became the latest state to regulate bathr...</td>\n",
       "      <td>TransYouth</td>\n",
       "    </tr>\n",
       "    <tr>\n",
       "      <th>4</th>\n",
       "      <td>Nilay Patel</td>\n",
       "      <td>Why Sen Brian Schatz thinks child safety bills...</td>\n",
       "      <td>The Democratic senator from Hawaii explains wh...</td>\n",
       "      <td>TransYouth</td>\n",
       "    </tr>\n",
       "  </tbody>\n",
       "</table>\n",
       "</div>"
      ],
      "text/plain": [
       "                                       Author  \\\n",
       "0                  Kiara Alfonseca Lilia Geho   \n",
       "1                  Kiara Alfonseca Lilia Geho   \n",
       "2  By ANDREW DeMILLO and HANNAH SCHOENBAUM AP   \n",
       "3                          AMY BETH HANSON AP   \n",
       "4                                 Nilay Patel   \n",
       "\n",
       "                                               Title  \\\n",
       "0  Ohio House votes to override governor s veto o...   \n",
       "1  Ohio Senate overrides governor veto of trans c...   \n",
       "2  Efforts to Restrict Transgender Health Care En...   \n",
       "3  Utah Joins Other States in Regulating Bathroom...   \n",
       "4  Why Sen Brian Schatz thinks child safety bills...   \n",
       "\n",
       "                                            Headline       Label  \n",
       "0  The Ohio House has voted to override Gov Mike ...  TransYouth  \n",
       "1  The Ohio Senate voted to override Gov Mike DeW...  TransYouth  \n",
       "2  Republican led state legislatures are consider...  TransYouth  \n",
       "3  Utah became the latest state to regulate bathr...  TransYouth  \n",
       "4  The Democratic senator from Hawaii explains wh...  TransYouth  "
      ]
     },
     "execution_count": 28,
     "metadata": {},
     "output_type": "execute_result"
    }
   ],
   "source": [
    "combined_df = pd.concat([newsAPI_df,newsAPI_df2, newsAPI_df3, newsAPI_df4], ignore_index=True)\n",
    "\n",
    "combined_df.head()"
   ]
  },
  {
   "cell_type": "code",
   "execution_count": 30,
   "id": "01529860-e2e0-4bde-be78-e1e703725778",
   "metadata": {},
   "outputs": [],
   "source": [
    "combined_df.to_csv('Combined_DF_NewsAPI.csv')"
   ]
  },
  {
   "cell_type": "code",
   "execution_count": 32,
   "id": "d60382c2-2e87-41ee-817d-39f3328eccba",
   "metadata": {},
   "outputs": [
    {
     "data": {
      "text/plain": [
       "383"
      ]
     },
     "execution_count": 32,
     "metadata": {},
     "output_type": "execute_result"
    }
   ],
   "source": [
    "len(combined_df)"
   ]
  },
  {
   "cell_type": "code",
   "execution_count": null,
   "id": "0a7e2825-fd4a-4d73-abcc-d9ca4eff249e",
   "metadata": {},
   "outputs": [],
   "source": []
  },
  {
   "cell_type": "code",
   "execution_count": null,
   "id": "8e86073a-7591-4bca-8ba0-6956b4a791ad",
   "metadata": {},
   "outputs": [],
   "source": []
  },
  {
   "cell_type": "code",
   "execution_count": null,
   "id": "608a196b-1520-4305-90cd-ae6a565b574d",
   "metadata": {},
   "outputs": [],
   "source": []
  },
  {
   "cell_type": "code",
   "execution_count": 85,
   "id": "77c9a195-d773-45d8-886f-2709ebbb5472",
   "metadata": {},
   "outputs": [
    {
     "name": "stderr",
     "output_type": "stream",
     "text": [
      "/tmp/ipykernel_128/4292724039.py:1: FutureWarning: The frame.append method is deprecated and will be removed from pandas in a future version. Use pandas.concat instead.\n",
      "  combined_df = df.append(df2)\n"
     ]
    },
    {
     "data": {
      "text/html": [
       "<div>\n",
       "<style scoped>\n",
       "    .dataframe tbody tr th:only-of-type {\n",
       "        vertical-align: middle;\n",
       "    }\n",
       "\n",
       "    .dataframe tbody tr th {\n",
       "        vertical-align: top;\n",
       "    }\n",
       "\n",
       "    .dataframe thead th {\n",
       "        text-align: right;\n",
       "    }\n",
       "</style>\n",
       "<table border=\"1\" class=\"dataframe\">\n",
       "  <thead>\n",
       "    <tr style=\"text-align: right;\">\n",
       "      <th></th>\n",
       "      <th>Author</th>\n",
       "      <th>Title</th>\n",
       "      <th>Headline</th>\n",
       "    </tr>\n",
       "  </thead>\n",
       "  <tbody>\n",
       "    <tr>\n",
       "      <th>0</th>\n",
       "      <td>Kiara Alfonseca Lilia Geho</td>\n",
       "      <td>Ohio House votes to override governor s veto o...</td>\n",
       "      <td>The Ohio House has voted to override Gov Mike ...</td>\n",
       "    </tr>\n",
       "    <tr>\n",
       "      <th>1</th>\n",
       "      <td>Kiara Alfonseca Lilia Geho</td>\n",
       "      <td>Ohio Senate overrides governor veto of trans c...</td>\n",
       "      <td>The Ohio Senate voted to override Gov Mike DeW...</td>\n",
       "    </tr>\n",
       "    <tr>\n",
       "      <th>2</th>\n",
       "      <td>By ANDREW DeMILLO and HANNAH SCHOENBAUM AP</td>\n",
       "      <td>Efforts to Restrict Transgender Health Care En...</td>\n",
       "      <td>Republican led state legislatures are consider...</td>\n",
       "    </tr>\n",
       "    <tr>\n",
       "      <th>3</th>\n",
       "      <td>AMY BETH HANSON AP</td>\n",
       "      <td>Utah Joins Other States in Regulating Bathroom...</td>\n",
       "      <td>Utah became the latest state to regulate bathr...</td>\n",
       "    </tr>\n",
       "    <tr>\n",
       "      <th>4</th>\n",
       "      <td>Nilay Patel</td>\n",
       "      <td>Why Sen Brian Schatz thinks child safety bills...</td>\n",
       "      <td>The Democratic senator from Hawaii explains wh...</td>\n",
       "    </tr>\n",
       "    <tr>\n",
       "      <th>...</th>\n",
       "      <td>...</td>\n",
       "      <td>...</td>\n",
       "      <td>...</td>\n",
       "    </tr>\n",
       "    <tr>\n",
       "      <th>95</th>\n",
       "      <td>ABC News</td>\n",
       "      <td>British teens who killed transgender teen Bria...</td>\n",
       "      <td>A judge reveals the identities of Scarlett Jen...</td>\n",
       "    </tr>\n",
       "    <tr>\n",
       "      <th>96</th>\n",
       "      <td>Megan Brock</td>\n",
       "      <td>EXCLUSIVE Top Trans Pediatric Doctors Admit In...</td>\n",
       "      <td>Prominent World Professional Association for T...</td>\n",
       "    </tr>\n",
       "    <tr>\n",
       "      <th>97</th>\n",
       "      <td>Warner Todd Huston Warner Todd Huston</td>\n",
       "      <td>REPORT Islamic Calif High School Cancels Girls...</td>\n",
       "      <td>An Islamic high school in CA canceled a Jan gi...</td>\n",
       "    </tr>\n",
       "    <tr>\n",
       "      <th>98</th>\n",
       "      <td>Alana Mastrangelo Alana Mastrangelo</td>\n",
       "      <td>Transgender Democrat Permitted to Run for Ohio...</td>\n",
       "      <td>A transgender candidate has been permitted to ...</td>\n",
       "    </tr>\n",
       "    <tr>\n",
       "      <th>99</th>\n",
       "      <td>Debangshu Nath</td>\n",
       "      <td>Will Harper When Did Harper Steele Come Out as...</td>\n",
       "      <td>Showcasing a beautiful tale of friendship this...</td>\n",
       "    </tr>\n",
       "  </tbody>\n",
       "</table>\n",
       "<p>180 rows × 3 columns</p>\n",
       "</div>"
      ],
      "text/plain": [
       "                                        Author  \\\n",
       "0                   Kiara Alfonseca Lilia Geho   \n",
       "1                   Kiara Alfonseca Lilia Geho   \n",
       "2   By ANDREW DeMILLO and HANNAH SCHOENBAUM AP   \n",
       "3                           AMY BETH HANSON AP   \n",
       "4                                  Nilay Patel   \n",
       "..                                         ...   \n",
       "95                                    ABC News   \n",
       "96                                 Megan Brock   \n",
       "97       Warner Todd Huston Warner Todd Huston   \n",
       "98         Alana Mastrangelo Alana Mastrangelo   \n",
       "99                              Debangshu Nath   \n",
       "\n",
       "                                                Title  \\\n",
       "0   Ohio House votes to override governor s veto o...   \n",
       "1   Ohio Senate overrides governor veto of trans c...   \n",
       "2   Efforts to Restrict Transgender Health Care En...   \n",
       "3   Utah Joins Other States in Regulating Bathroom...   \n",
       "4   Why Sen Brian Schatz thinks child safety bills...   \n",
       "..                                                ...   \n",
       "95  British teens who killed transgender teen Bria...   \n",
       "96  EXCLUSIVE Top Trans Pediatric Doctors Admit In...   \n",
       "97  REPORT Islamic Calif High School Cancels Girls...   \n",
       "98  Transgender Democrat Permitted to Run for Ohio...   \n",
       "99  Will Harper When Did Harper Steele Come Out as...   \n",
       "\n",
       "                                             Headline  \n",
       "0   The Ohio House has voted to override Gov Mike ...  \n",
       "1   The Ohio Senate voted to override Gov Mike DeW...  \n",
       "2   Republican led state legislatures are consider...  \n",
       "3   Utah became the latest state to regulate bathr...  \n",
       "4   The Democratic senator from Hawaii explains wh...  \n",
       "..                                                ...  \n",
       "95  A judge reveals the identities of Scarlett Jen...  \n",
       "96  Prominent World Professional Association for T...  \n",
       "97  An Islamic high school in CA canceled a Jan gi...  \n",
       "98  A transgender candidate has been permitted to ...  \n",
       "99  Showcasing a beautiful tale of friendship this...  \n",
       "\n",
       "[180 rows x 3 columns]"
      ]
     },
     "execution_count": 85,
     "metadata": {},
     "output_type": "execute_result"
    }
   ],
   "source": []
  }
 ],
 "metadata": {
  "kernelspec": {
   "display_name": "Python 3 (ipykernel)",
   "language": "python",
   "name": "python3"
  },
  "language_info": {
   "codemirror_mode": {
    "name": "ipython",
    "version": 3
   },
   "file_extension": ".py",
   "mimetype": "text/x-python",
   "name": "python",
   "nbconvert_exporter": "python",
   "pygments_lexer": "ipython3",
   "version": "3.10.8"
  }
 },
 "nbformat": 4,
 "nbformat_minor": 5
}
